{
 "cells": [
  {
   "cell_type": "markdown",
   "metadata": {},
   "source": [
    "## Pre-Processing and Modeling of Online Shoppers Intention Dataset\n",
    "\n",
    "### Lisa Patel"
   ]
  },
  {
   "cell_type": "code",
   "execution_count": 1,
   "metadata": {},
   "outputs": [],
   "source": [
    "import os\n",
    "import pandas as pd\n",
    "import numpy as np\n",
    "import seaborn as sns\n",
    "from matplotlib import pyplot as plt \n",
    "import sklearn\n",
    "from matplotlib import pyplot as plt\n",
    "from sklearn.model_selection import train_test_split\n",
    "from sklearn.preprocessing import OneHotEncoder, LabelEncoder\n",
    "from sklearn import metrics\n",
    "from sklearn.linear_model import LogisticRegression\n",
    "from sklearn.metrics import roc_curve\n",
    "from sklearn.metrics import roc_auc_score, precision_score, recall_score, precision_recall_curve, f1_score\n",
    "from sklearn.ensemble import RandomForestClassifier\n",
    "from sklearn.preprocessing import StandardScaler\n",
    "from sklearn.naive_bayes import GaussianNB \n",
    "from sklearn.metrics import classification_report\n",
    "from sklearn.model_selection import GridSearchCV\n",
    "\n"
   ]
  },
  {
   "cell_type": "code",
   "execution_count": 2,
   "metadata": {},
   "outputs": [],
   "source": [
    "df = pd.read_csv('EDA_df.csv')"
   ]
  },
  {
   "cell_type": "code",
   "execution_count": 3,
   "metadata": {},
   "outputs": [
    {
     "data": {
      "text/html": [
       "<div>\n",
       "<style scoped>\n",
       "    .dataframe tbody tr th:only-of-type {\n",
       "        vertical-align: middle;\n",
       "    }\n",
       "\n",
       "    .dataframe tbody tr th {\n",
       "        vertical-align: top;\n",
       "    }\n",
       "\n",
       "    .dataframe thead th {\n",
       "        text-align: right;\n",
       "    }\n",
       "</style>\n",
       "<table border=\"1\" class=\"dataframe\">\n",
       "  <thead>\n",
       "    <tr style=\"text-align: right;\">\n",
       "      <th></th>\n",
       "      <th>Administrative</th>\n",
       "      <th>Administrative_Duration</th>\n",
       "      <th>Informational</th>\n",
       "      <th>Informational_Duration</th>\n",
       "      <th>ProductRelated</th>\n",
       "      <th>ProductRelated_Duration</th>\n",
       "      <th>BounceRates</th>\n",
       "      <th>ExitRates</th>\n",
       "      <th>PageValues</th>\n",
       "      <th>SpecialDay</th>\n",
       "      <th>Month</th>\n",
       "      <th>OperatingSystems</th>\n",
       "      <th>Browser</th>\n",
       "      <th>Region</th>\n",
       "      <th>TrafficType</th>\n",
       "      <th>VisitorType</th>\n",
       "      <th>Weekend</th>\n",
       "      <th>Revenue</th>\n",
       "    </tr>\n",
       "  </thead>\n",
       "  <tbody>\n",
       "    <tr>\n",
       "      <th>0</th>\n",
       "      <td>0</td>\n",
       "      <td>0.0</td>\n",
       "      <td>0</td>\n",
       "      <td>0.0</td>\n",
       "      <td>1</td>\n",
       "      <td>0.000000</td>\n",
       "      <td>0.20</td>\n",
       "      <td>0.20</td>\n",
       "      <td>0.0</td>\n",
       "      <td>0.0</td>\n",
       "      <td>Feb</td>\n",
       "      <td>1</td>\n",
       "      <td>1</td>\n",
       "      <td>1</td>\n",
       "      <td>1</td>\n",
       "      <td>Returning_Visitor</td>\n",
       "      <td>False</td>\n",
       "      <td>False</td>\n",
       "    </tr>\n",
       "    <tr>\n",
       "      <th>1</th>\n",
       "      <td>0</td>\n",
       "      <td>0.0</td>\n",
       "      <td>0</td>\n",
       "      <td>0.0</td>\n",
       "      <td>2</td>\n",
       "      <td>64.000000</td>\n",
       "      <td>0.00</td>\n",
       "      <td>0.10</td>\n",
       "      <td>0.0</td>\n",
       "      <td>0.0</td>\n",
       "      <td>Feb</td>\n",
       "      <td>2</td>\n",
       "      <td>2</td>\n",
       "      <td>1</td>\n",
       "      <td>2</td>\n",
       "      <td>Returning_Visitor</td>\n",
       "      <td>False</td>\n",
       "      <td>False</td>\n",
       "    </tr>\n",
       "    <tr>\n",
       "      <th>2</th>\n",
       "      <td>0</td>\n",
       "      <td>0.0</td>\n",
       "      <td>0</td>\n",
       "      <td>0.0</td>\n",
       "      <td>1</td>\n",
       "      <td>0.000000</td>\n",
       "      <td>0.20</td>\n",
       "      <td>0.20</td>\n",
       "      <td>0.0</td>\n",
       "      <td>0.0</td>\n",
       "      <td>Feb</td>\n",
       "      <td>4</td>\n",
       "      <td>1</td>\n",
       "      <td>9</td>\n",
       "      <td>3</td>\n",
       "      <td>Returning_Visitor</td>\n",
       "      <td>False</td>\n",
       "      <td>False</td>\n",
       "    </tr>\n",
       "    <tr>\n",
       "      <th>3</th>\n",
       "      <td>0</td>\n",
       "      <td>0.0</td>\n",
       "      <td>0</td>\n",
       "      <td>0.0</td>\n",
       "      <td>2</td>\n",
       "      <td>2.666667</td>\n",
       "      <td>0.05</td>\n",
       "      <td>0.14</td>\n",
       "      <td>0.0</td>\n",
       "      <td>0.0</td>\n",
       "      <td>Feb</td>\n",
       "      <td>3</td>\n",
       "      <td>2</td>\n",
       "      <td>2</td>\n",
       "      <td>4</td>\n",
       "      <td>Returning_Visitor</td>\n",
       "      <td>False</td>\n",
       "      <td>False</td>\n",
       "    </tr>\n",
       "    <tr>\n",
       "      <th>4</th>\n",
       "      <td>0</td>\n",
       "      <td>0.0</td>\n",
       "      <td>0</td>\n",
       "      <td>0.0</td>\n",
       "      <td>10</td>\n",
       "      <td>627.500000</td>\n",
       "      <td>0.02</td>\n",
       "      <td>0.05</td>\n",
       "      <td>0.0</td>\n",
       "      <td>0.0</td>\n",
       "      <td>Feb</td>\n",
       "      <td>3</td>\n",
       "      <td>3</td>\n",
       "      <td>1</td>\n",
       "      <td>4</td>\n",
       "      <td>Returning_Visitor</td>\n",
       "      <td>True</td>\n",
       "      <td>False</td>\n",
       "    </tr>\n",
       "  </tbody>\n",
       "</table>\n",
       "</div>"
      ],
      "text/plain": [
       "   Administrative  Administrative_Duration  Informational  \\\n",
       "0               0                      0.0              0   \n",
       "1               0                      0.0              0   \n",
       "2               0                      0.0              0   \n",
       "3               0                      0.0              0   \n",
       "4               0                      0.0              0   \n",
       "\n",
       "   Informational_Duration  ProductRelated  ProductRelated_Duration  \\\n",
       "0                     0.0               1                 0.000000   \n",
       "1                     0.0               2                64.000000   \n",
       "2                     0.0               1                 0.000000   \n",
       "3                     0.0               2                 2.666667   \n",
       "4                     0.0              10               627.500000   \n",
       "\n",
       "   BounceRates  ExitRates  PageValues  SpecialDay Month  OperatingSystems  \\\n",
       "0         0.20       0.20         0.0         0.0   Feb                 1   \n",
       "1         0.00       0.10         0.0         0.0   Feb                 2   \n",
       "2         0.20       0.20         0.0         0.0   Feb                 4   \n",
       "3         0.05       0.14         0.0         0.0   Feb                 3   \n",
       "4         0.02       0.05         0.0         0.0   Feb                 3   \n",
       "\n",
       "   Browser  Region  TrafficType        VisitorType  Weekend  Revenue  \n",
       "0        1       1            1  Returning_Visitor    False    False  \n",
       "1        2       1            2  Returning_Visitor    False    False  \n",
       "2        1       9            3  Returning_Visitor    False    False  \n",
       "3        2       2            4  Returning_Visitor    False    False  \n",
       "4        3       1            4  Returning_Visitor     True    False  "
      ]
     },
     "execution_count": 3,
     "metadata": {},
     "output_type": "execute_result"
    }
   ],
   "source": [
    "df.head()"
   ]
  },
  {
   "cell_type": "code",
   "execution_count": 4,
   "metadata": {},
   "outputs": [
    {
     "data": {
      "text/plain": [
       "Administrative               int64\n",
       "Administrative_Duration    float64\n",
       "Informational                int64\n",
       "Informational_Duration     float64\n",
       "ProductRelated               int64\n",
       "ProductRelated_Duration    float64\n",
       "BounceRates                float64\n",
       "ExitRates                  float64\n",
       "PageValues                 float64\n",
       "SpecialDay                 float64\n",
       "Month                       object\n",
       "OperatingSystems             int64\n",
       "Browser                      int64\n",
       "Region                       int64\n",
       "TrafficType                  int64\n",
       "VisitorType                 object\n",
       "Weekend                       bool\n",
       "Revenue                       bool\n",
       "dtype: object"
      ]
     },
     "execution_count": 4,
     "metadata": {},
     "output_type": "execute_result"
    }
   ],
   "source": [
    "df.dtypes"
   ]
  },
  {
   "cell_type": "code",
   "execution_count": 5,
   "metadata": {},
   "outputs": [
    {
     "data": {
      "text/plain": [
       "Text(0.5, 1.0, 'Entries per Month')"
      ]
     },
     "execution_count": 5,
     "metadata": {},
     "output_type": "execute_result"
    },
    {
     "data": {
      "image/png": "[encoded data removed]",
      "text/plain": [
       "<Figure size 432x288 with 1 Axes>"
      ]
     },
     "metadata": {
      "needs_background": "light"
     },
     "output_type": "display_data"
    }
   ],
   "source": [
    "months = df['Month'].value_counts()\n",
    "\n",
    "sns.countplot(x = df['Month'], order=months.index)\n",
    "plt.title('Entries per Month', fontsize=15)"
   ]
  },
  {
   "cell_type": "code",
   "execution_count": 6,
   "metadata": {},
   "outputs": [
    {
     "data": {
      "text/html": [
       "<div>\n",
       "<style scoped>\n",
       "    .dataframe tbody tr th:only-of-type {\n",
       "        vertical-align: middle;\n",
       "    }\n",
       "\n",
       "    .dataframe tbody tr th {\n",
       "        vertical-align: top;\n",
       "    }\n",
       "\n",
       "    .dataframe thead th {\n",
       "        text-align: right;\n",
       "    }\n",
       "</style>\n",
       "<table border=\"1\" class=\"dataframe\">\n",
       "  <thead>\n",
       "    <tr style=\"text-align: right;\">\n",
       "      <th></th>\n",
       "      <th>Administrative</th>\n",
       "      <th>Administrative_Duration</th>\n",
       "      <th>Informational</th>\n",
       "      <th>Informational_Duration</th>\n",
       "      <th>ProductRelated</th>\n",
       "      <th>ProductRelated_Duration</th>\n",
       "      <th>BounceRates</th>\n",
       "      <th>ExitRates</th>\n",
       "      <th>PageValues</th>\n",
       "      <th>SpecialDay</th>\n",
       "      <th>Month</th>\n",
       "      <th>OperatingSystems</th>\n",
       "      <th>Browser</th>\n",
       "      <th>Region</th>\n",
       "      <th>TrafficType</th>\n",
       "      <th>VisitorType</th>\n",
       "      <th>Weekend</th>\n",
       "      <th>Revenue</th>\n",
       "    </tr>\n",
       "  </thead>\n",
       "  <tbody>\n",
       "    <tr>\n",
       "      <th>0</th>\n",
       "      <td>0</td>\n",
       "      <td>0.0</td>\n",
       "      <td>0</td>\n",
       "      <td>0.0</td>\n",
       "      <td>1</td>\n",
       "      <td>0.000000</td>\n",
       "      <td>0.20</td>\n",
       "      <td>0.20</td>\n",
       "      <td>0.0</td>\n",
       "      <td>0.0</td>\n",
       "      <td>2</td>\n",
       "      <td>1</td>\n",
       "      <td>1</td>\n",
       "      <td>1</td>\n",
       "      <td>1</td>\n",
       "      <td>Returning_Visitor</td>\n",
       "      <td>False</td>\n",
       "      <td>False</td>\n",
       "    </tr>\n",
       "    <tr>\n",
       "      <th>1</th>\n",
       "      <td>0</td>\n",
       "      <td>0.0</td>\n",
       "      <td>0</td>\n",
       "      <td>0.0</td>\n",
       "      <td>2</td>\n",
       "      <td>64.000000</td>\n",
       "      <td>0.00</td>\n",
       "      <td>0.10</td>\n",
       "      <td>0.0</td>\n",
       "      <td>0.0</td>\n",
       "      <td>2</td>\n",
       "      <td>2</td>\n",
       "      <td>2</td>\n",
       "      <td>1</td>\n",
       "      <td>2</td>\n",
       "      <td>Returning_Visitor</td>\n",
       "      <td>False</td>\n",
       "      <td>False</td>\n",
       "    </tr>\n",
       "    <tr>\n",
       "      <th>2</th>\n",
       "      <td>0</td>\n",
       "      <td>0.0</td>\n",
       "      <td>0</td>\n",
       "      <td>0.0</td>\n",
       "      <td>1</td>\n",
       "      <td>0.000000</td>\n",
       "      <td>0.20</td>\n",
       "      <td>0.20</td>\n",
       "      <td>0.0</td>\n",
       "      <td>0.0</td>\n",
       "      <td>2</td>\n",
       "      <td>4</td>\n",
       "      <td>1</td>\n",
       "      <td>9</td>\n",
       "      <td>3</td>\n",
       "      <td>Returning_Visitor</td>\n",
       "      <td>False</td>\n",
       "      <td>False</td>\n",
       "    </tr>\n",
       "    <tr>\n",
       "      <th>3</th>\n",
       "      <td>0</td>\n",
       "      <td>0.0</td>\n",
       "      <td>0</td>\n",
       "      <td>0.0</td>\n",
       "      <td>2</td>\n",
       "      <td>2.666667</td>\n",
       "      <td>0.05</td>\n",
       "      <td>0.14</td>\n",
       "      <td>0.0</td>\n",
       "      <td>0.0</td>\n",
       "      <td>2</td>\n",
       "      <td>3</td>\n",
       "      <td>2</td>\n",
       "      <td>2</td>\n",
       "      <td>4</td>\n",
       "      <td>Returning_Visitor</td>\n",
       "      <td>False</td>\n",
       "      <td>False</td>\n",
       "    </tr>\n",
       "    <tr>\n",
       "      <th>4</th>\n",
       "      <td>0</td>\n",
       "      <td>0.0</td>\n",
       "      <td>0</td>\n",
       "      <td>0.0</td>\n",
       "      <td>10</td>\n",
       "      <td>627.500000</td>\n",
       "      <td>0.02</td>\n",
       "      <td>0.05</td>\n",
       "      <td>0.0</td>\n",
       "      <td>0.0</td>\n",
       "      <td>2</td>\n",
       "      <td>3</td>\n",
       "      <td>3</td>\n",
       "      <td>1</td>\n",
       "      <td>4</td>\n",
       "      <td>Returning_Visitor</td>\n",
       "      <td>True</td>\n",
       "      <td>False</td>\n",
       "    </tr>\n",
       "  </tbody>\n",
       "</table>\n",
       "</div>"
      ],
      "text/plain": [
       "   Administrative  Administrative_Duration  Informational  \\\n",
       "0               0                      0.0              0   \n",
       "1               0                      0.0              0   \n",
       "2               0                      0.0              0   \n",
       "3               0                      0.0              0   \n",
       "4               0                      0.0              0   \n",
       "\n",
       "   Informational_Duration  ProductRelated  ProductRelated_Duration  \\\n",
       "0                     0.0               1                 0.000000   \n",
       "1                     0.0               2                64.000000   \n",
       "2                     0.0               1                 0.000000   \n",
       "3                     0.0               2                 2.666667   \n",
       "4                     0.0              10               627.500000   \n",
       "\n",
       "   BounceRates  ExitRates  PageValues  SpecialDay  Month  OperatingSystems  \\\n",
       "0         0.20       0.20         0.0         0.0      2                 1   \n",
       "1         0.00       0.10         0.0         0.0      2                 2   \n",
       "2         0.20       0.20         0.0         0.0      2                 4   \n",
       "3         0.05       0.14         0.0         0.0      2                 3   \n",
       "4         0.02       0.05         0.0         0.0      2                 3   \n",
       "\n",
       "   Browser  Region  TrafficType        VisitorType  Weekend  Revenue  \n",
       "0        1       1            1  Returning_Visitor    False    False  \n",
       "1        2       1            2  Returning_Visitor    False    False  \n",
       "2        1       9            3  Returning_Visitor    False    False  \n",
       "3        2       2            4  Returning_Visitor    False    False  \n",
       "4        3       1            4  Returning_Visitor     True    False  "
      ]
     },
     "execution_count": 6,
     "metadata": {},
     "output_type": "execute_result"
    }
   ],
   "source": [
    "df.replace(['Jan','Feb','Mar','Apr','May','June','Jul','Aug','Sep','Oct','Nov','Dec'],[1,2,3,4,5,6,7,8,9,10,11,12], inplace = True)\n",
    "df.head()"
   ]
  },
  {
   "cell_type": "code",
   "execution_count": 7,
   "metadata": {},
   "outputs": [
    {
     "data": {
      "image/png": "[encoded data removed]",
      "text/plain": [
       "<Figure size 432x288 with 1 Axes>"
      ]
     },
     "metadata": {
      "needs_background": "light"
     },
     "output_type": "display_data"
    }
   ],
   "source": [
    "sns.countplot(x = df['Browser'])\n",
    "plt.title('Browsers', fontsize=15)\n",
    "plt.show()"
   ]
  },
  {
   "cell_type": "markdown",
   "metadata": {},
   "source": [
    "There is a large majority of users using brower 2 with a smaller number using browser 1. All other browsers only have a small subsection of users. It makes sense to drop this column since it is polarizing and doesn't contribute much to our model. "
   ]
  },
  {
   "cell_type": "code",
   "execution_count": 8,
   "metadata": {},
   "outputs": [],
   "source": [
    "df.replace(['Returning_Visitor', 'New_Visitor', 'Other'], [1 ,2, 3], inplace = True)"
   ]
  },
  {
   "cell_type": "code",
   "execution_count": 9,
   "metadata": {},
   "outputs": [
    {
     "data": {
      "image/png": "[encoded data removed]",
      "text/plain": [
       "<Figure size 432x288 with 1 Axes>"
      ]
     },
     "metadata": {
      "needs_background": "light"
     },
     "output_type": "display_data"
    }
   ],
   "source": [
    "sns.countplot(x = df['VisitorType'])\n",
    "plt.title('Visitor Type', fontsize=15)\n",
    "plt.show()"
   ]
  },
  {
   "cell_type": "markdown",
   "metadata": {},
   "source": [
    "The visitor type column was transformed into a numerical column for the machine learning algorithm. The data is severely skewed towards returning customers, which may affect a models performance. \n"
   ]
  },
  {
   "cell_type": "code",
   "execution_count": 10,
   "metadata": {},
   "outputs": [
    {
     "data": {
      "image/png": "[encoded data removed]",
      "text/plain": [
       "<Figure size 504x576 with 1 Axes>"
      ]
     },
     "metadata": {},
     "output_type": "display_data"
    }
   ],
   "source": [
    "df['OperatingSystems'] = df['OperatingSystems'].replace(['5,6,7,8'],5)\n",
    "os_plot = df['OperatingSystems'].value_counts().plot.pie(figsize=(7,8))\n",
    "plt.title('Operating Systems', fontsize=15)\n",
    "plt.show()"
   ]
  },
  {
   "cell_type": "markdown",
   "metadata": {},
   "source": [
    "Browsers with low level of users have been consolidated under category 5. A user's operating system for this classification problem does not seem appropriate since it most likely indicates user's having a certain type of computer. Therefore, we will leave this out of the model. "
   ]
  },
  {
   "cell_type": "code",
   "execution_count": 11,
   "metadata": {},
   "outputs": [
    {
     "data": {
      "image/png": "[encoded data removed]",
      "text/plain": [
       "<Figure size 504x576 with 1 Axes>"
      ]
     },
     "metadata": {},
     "output_type": "display_data"
    }
   ],
   "source": [
    "os_plot = df['Region'].value_counts().plot.pie(figsize=(7,8))\n",
    "plt.title('Region', fontsize=15)\n",
    "plt.show()"
   ]
  },
  {
   "cell_type": "markdown",
   "metadata": {},
   "source": [
    "We leave regionality out because the regionality may be slightly tied to purchase likelihood, but we want to train our model on a smaller set of features if possible."
   ]
  },
  {
   "cell_type": "code",
   "execution_count": 12,
   "metadata": {},
   "outputs": [
    {
     "data": {
      "image/png": "[encoded data removed]",
      "text/plain": [
       "<Figure size 504x576 with 1 Axes>"
      ]
     },
     "metadata": {},
     "output_type": "display_data"
    }
   ],
   "source": [
    "os_plot = df['TrafficType'].value_counts().plot.pie(figsize=(7,8))\n",
    "plt.title('Traffic Types', fontsize=15)\n",
    "plt.show()"
   ]
  },
  {
   "cell_type": "markdown",
   "metadata": {},
   "source": [
    "We will leave this feature out of the model as well since traffic sources are typically not useful for classifying if a user made a purchase. It's typically important for tracking website traffic to determine whether and where to advertise."
   ]
  },
  {
   "cell_type": "code",
   "execution_count": 13,
   "metadata": {},
   "outputs": [
    {
     "data": {
      "text/plain": [
       "Index(['Administrative', 'Administrative_Duration', 'Informational',\n",
       "       'Informational_Duration', 'ProductRelated', 'ProductRelated_Duration',\n",
       "       'BounceRates', 'ExitRates', 'PageValues', 'SpecialDay', 'Month',\n",
       "       'OperatingSystems', 'Browser', 'Region', 'TrafficType', 'VisitorType',\n",
       "       'Weekend', 'Revenue'],\n",
       "      dtype='object')"
      ]
     },
     "execution_count": 13,
     "metadata": {},
     "output_type": "execute_result"
    }
   ],
   "source": [
    "df.columns"
   ]
  },
  {
   "cell_type": "markdown",
   "metadata": {},
   "source": [
    "### Dropping Columns"
   ]
  },
  {
   "cell_type": "code",
   "execution_count": 14,
   "metadata": {},
   "outputs": [],
   "source": [
    "df_clean = df.drop(['Month','Browser','OperatingSystems','Region','TrafficType','Weekend', 'Administrative', 'Administrative_Duration','Informational','Informational_Duration','OperatingSystems'], axis=1)"
   ]
  },
  {
   "cell_type": "markdown",
   "metadata": {},
   "source": [
    "### One-hot Encoding and Splitting the Data"
   ]
  },
  {
   "cell_type": "code",
   "execution_count": 15,
   "metadata": {},
   "outputs": [],
   "source": [
    "encoded_visitor = pd.get_dummies(df_clean['VisitorType'], prefix='Visitor_Type', drop_first = True)\n",
    "\n",
    "clean_merged_df = pd.concat([df_clean, encoded_visitor], axis=1).drop(['VisitorType'], axis=1)"
   ]
  },
  {
   "cell_type": "code",
   "execution_count": 16,
   "metadata": {},
   "outputs": [
    {
     "data": {
      "text/plain": [
       "Visitor_Type_2  Visitor_Type_3\n",
       "0               0                 10551\n",
       "1               0                  1694\n",
       "0               1                    85\n",
       "dtype: int64"
      ]
     },
     "execution_count": 16,
     "metadata": {},
     "output_type": "execute_result"
    }
   ],
   "source": [
    "clean_merged_df[['Visitor_Type_2', 'Visitor_Type_3']].value_counts()"
   ]
  },
  {
   "cell_type": "code",
   "execution_count": 17,
   "metadata": {},
   "outputs": [],
   "source": [
    "y = clean_merged_df['Revenue']\n",
    "X = clean_merged_df.drop('Revenue', axis=1)\n",
    "\n",
    "X_train, X_test, y_train, y_test = train_test_split(X, y, stratify = y, random_state=42, test_size=.25)\n",
    "scaler = StandardScaler()\n",
    "X_train_scaled = scaler.fit_transform(X_train)\n",
    "X_test_scaled = scaler.fit_transform(X_test)\n"
   ]
  },
  {
   "cell_type": "markdown",
   "metadata": {},
   "source": [
    "At this point, we further examined the usefulness of certain features related to this classification problem and either removed unnessecary one or transformed them into more suitable ones. The dataset was then encoded with one-hot encoding since it made the most sense and split into the appropriate 75/25 train/test sets. \n",
    "\n",
    "The next task will be to explore various classification machine learning models. "
   ]
  },
  {
   "cell_type": "code",
   "execution_count": 18,
   "metadata": {},
   "outputs": [
    {
     "name": "stdout",
     "output_type": "stream",
     "text": [
      "(9247,)\n",
      "(3083, 8)\n"
     ]
    }
   ],
   "source": [
    "print(np.shape(y_train))\n",
    "print(np.shape(X_test_scaled))"
   ]
  },
  {
   "cell_type": "markdown",
   "metadata": {},
   "source": [
    "### Logistic Regression\n",
    "\n",
    "Let's started off the modeling with a simple logistic regression model since it's a binary classification problem. "
   ]
  },
  {
   "cell_type": "code",
   "execution_count": 19,
   "metadata": {},
   "outputs": [
    {
     "name": "stdout",
     "output_type": "stream",
     "text": [
      "Basic Logistic Regression model recall: 35.64\n",
      "              precision    recall  f1-score   support\n",
      "\n",
      "       False       0.89      0.98      0.93      2606\n",
      "        True       0.73      0.36      0.48       477\n",
      "\n",
      "    accuracy                           0.88      3083\n",
      "   macro avg       0.81      0.67      0.71      3083\n",
      "weighted avg       0.87      0.88      0.86      3083\n",
      "\n",
      "col_0    False  True \n",
      "Revenue              \n",
      "False     2544     62\n",
      "True       307    170\n"
     ]
    }
   ],
   "source": [
    "from sklearn.metrics import confusion_matrix\n",
    "log_reg = LogisticRegression()\n",
    "log_reg.fit(X_train_scaled, y_train)\n",
    "y_pred=log_reg.predict(X_test_scaled)\n",
    "\n",
    "print(\"Basic Logistic Regression model recall:\", round(metrics.recall_score(y_test, y_pred)*100,2))\n",
    "print(classification_report(y_test,y_pred))\n",
    "print(pd.crosstab(y_test, y_pred))"
   ]
  },
  {
   "cell_type": "markdown",
   "metadata": {},
   "source": [
    "Imediately the main problem can be seen from the precision and recall scores. Typically, prediction accuracy is the most common metric for classification tasks, but it becomes inappropriate and misleading when it is used on an imbalanced data set, which we have in this case. \n",
    "\n",
    "When your dataset do not represent all classes of data equally, the model might overfit to the class that’s represented more in your dataset and become oblivious to the existence of the minority class since the algrorithm decides to classify everything in the majority class to get a good accuracy score. The model may naively look good, but in practice has no skills. So, an alternate performance metrics must be used. For imbalanced datasets, the recall score and precision are much better metrics. \n",
    "\n",
    "In the logistic regression model, we see that recall for the true label is significantly lower compared to others. 308 true cases have been misclassified as false, so that's concerning. Lets continue to explore other models and compare afterwards. "
   ]
  },
  {
   "cell_type": "code",
   "execution_count": 20,
   "metadata": {},
   "outputs": [],
   "source": [
    "#Precision =# True positives / # predicted positive = TP/(TP+FP)\n",
    "#Recall = # True positives / # positives = TP / (TP+FN)"
   ]
  },
  {
   "cell_type": "code",
   "execution_count": 21,
   "metadata": {},
   "outputs": [],
   "source": [
    "def feature_importances(model):\n",
    "    importance = model.coef_[0]\n",
    "    important_features=[]\n",
    "    # summarize feature importance\n",
    "    for i,v in enumerate(importance):\n",
    "        print('Feature:',df.columns[i],'Score:', v)\n",
    "        if (v>0.04 or v<-0.04):\n",
    "            important_features.append(df.columns[i])\n",
    "    # plot feature importance\n",
    "    plt.bar([x for x in range(len(importance))], importance)\n",
    "    plt.title('Feature Importance for {}'.format(model))\n",
    "    plt.show()\n",
    "    return important_features"
   ]
  },
  {
   "cell_type": "code",
   "execution_count": 22,
   "metadata": {},
   "outputs": [
    {
     "name": "stdout",
     "output_type": "stream",
     "text": [
      "Feature: Administrative Score: 0.19489857326067062\n",
      "Feature: Administrative_Duration Score: 0.08032258805021615\n",
      "Feature: Informational Score: -0.10667535798125784\n",
      "Feature: Informational_Duration Score: -0.8435644400865993\n",
      "Feature: ProductRelated Score: 1.5370878575599787\n",
      "Feature: ProductRelated_Duration Score: -0.21422939725185708\n",
      "Feature: BounceRates Score: 0.09467939510871413\n",
      "Feature: ExitRates Score: -0.03565761021281973\n"
     ]
    },
    {
     "data": {
      "image/png": "[encoded data removed]",
      "text/plain": [
       "<Figure size 432x288 with 1 Axes>"
      ]
     },
     "metadata": {
      "needs_background": "light"
     },
     "output_type": "display_data"
    },
    {
     "data": {
      "text/plain": [
       "['Administrative',\n",
       " 'Administrative_Duration',\n",
       " 'Informational',\n",
       " 'Informational_Duration',\n",
       " 'ProductRelated',\n",
       " 'ProductRelated_Duration',\n",
       " 'BounceRates']"
      ]
     },
     "execution_count": 22,
     "metadata": {},
     "output_type": "execute_result"
    }
   ],
   "source": [
    "feature_importances(log_reg)\n"
   ]
  },
  {
   "cell_type": "code",
   "execution_count": 23,
   "metadata": {},
   "outputs": [
    {
     "data": {
      "text/plain": [
       "count    12330.000000\n",
       "mean         5.889258\n",
       "std         18.568437\n",
       "min          0.000000\n",
       "25%          0.000000\n",
       "50%          0.000000\n",
       "75%          0.000000\n",
       "max        361.763742\n",
       "Name: PageValues, dtype: float64"
      ]
     },
     "execution_count": 23,
     "metadata": {},
     "output_type": "execute_result"
    }
   ],
   "source": [
    "df['PageValues'].describe()"
   ]
  },
  {
   "cell_type": "markdown",
   "metadata": {},
   "source": [
    "Sci-Kit Learn classifiers can give heavier weights to the minority class using a simple parameter during model initiation. Let's see how that will improve our results."
   ]
  },
  {
   "cell_type": "code",
   "execution_count": 24,
   "metadata": {},
   "outputs": [
    {
     "name": "stdout",
     "output_type": "stream",
     "text": [
      "Basic Logistic Regression model recall: 68.34\n",
      "              precision    recall  f1-score   support\n",
      "\n",
      "       False       0.94      0.89      0.92      2606\n",
      "        True       0.54      0.68      0.61       477\n",
      "\n",
      "    accuracy                           0.86      3083\n",
      "   macro avg       0.74      0.79      0.76      3083\n",
      "weighted avg       0.88      0.86      0.87      3083\n",
      "\n",
      "col_0    False  True \n",
      "Revenue              \n",
      "False     2332    274\n",
      "True       151    326\n"
     ]
    }
   ],
   "source": [
    "log_reg_bal= LogisticRegression(class_weight = 'balanced')\n",
    "log_reg_bal.fit(X_train_scaled, y_train)\n",
    "y_pred=log_reg_bal.predict(X_test_scaled)\n",
    "\n",
    "print(\"Basic Logistic Regression model recall:\", round(metrics.recall_score(y_test, y_pred)*100,2))\n",
    "print(classification_report(y_test,y_pred))\n",
    "print(pd.crosstab(y_test, y_pred))"
   ]
  },
  {
   "cell_type": "markdown",
   "metadata": {},
   "source": [
    "The recall score for positive labels improved from 35% to 69%, which is a good result. Even though there were more false positive with the balanced logistic regression, the f1 score for negative labels being 92% still indicates this is a better model. \n",
    "\n",
    "Lets look at the feature importances. "
   ]
  },
  {
   "cell_type": "code",
   "execution_count": 25,
   "metadata": {},
   "outputs": [
    {
     "name": "stdout",
     "output_type": "stream",
     "text": [
      "Feature: Administrative Score: 0.2728776005044198\n",
      "Feature: Administrative_Duration Score: 0.14947177359687086\n",
      "Feature: Informational Score: -0.09041231871566069\n",
      "Feature: Informational_Duration Score: -0.6550851112489039\n",
      "Feature: ProductRelated Score: 2.21229590893485\n",
      "Feature: ProductRelated_Duration Score: -0.28649483723607594\n",
      "Feature: BounceRates Score: 0.11649145058676816\n",
      "Feature: ExitRates Score: -0.006448377088902264\n"
     ]
    },
    {
     "data": {
      "image/png": "[encoded data removed]",
      "text/plain": [
       "<Figure size 432x288 with 1 Axes>"
      ]
     },
     "metadata": {
      "needs_background": "light"
     },
     "output_type": "display_data"
    },
    {
     "data": {
      "text/plain": [
       "['Administrative',\n",
       " 'Administrative_Duration',\n",
       " 'Informational',\n",
       " 'Informational_Duration',\n",
       " 'ProductRelated',\n",
       " 'ProductRelated_Duration',\n",
       " 'BounceRates']"
      ]
     },
     "execution_count": 25,
     "metadata": {},
     "output_type": "execute_result"
    }
   ],
   "source": [
    "feature_importances(log_reg_bal)\n"
   ]
  },
  {
   "cell_type": "markdown",
   "metadata": {},
   "source": [
    "Again, page values plays a significant part in our model."
   ]
  },
  {
   "cell_type": "markdown",
   "metadata": {},
   "source": [
    "### Gaussian Naive Bayes Classifier"
   ]
  },
  {
   "cell_type": "code",
   "execution_count": 26,
   "metadata": {},
   "outputs": [
    {
     "name": "stdout",
     "output_type": "stream",
     "text": [
      "Gaussian Naive Bayes model accuracy: 77.2\n",
      "              precision    recall  f1-score   support\n",
      "\n",
      "       False       0.93      0.79      0.85      2606\n",
      "        True       0.37      0.69      0.48       477\n",
      "\n",
      "    accuracy                           0.77      3083\n",
      "   macro avg       0.65      0.74      0.67      3083\n",
      "weighted avg       0.85      0.77      0.80      3083\n",
      "\n",
      "col_0    False  True \n",
      "Revenue              \n",
      "False     2053    553\n",
      "True       150    327\n"
     ]
    }
   ],
   "source": [
    "# Fit Gaussian Naive Bayes Classifier to our training data\n",
    "gnb = GaussianNB() \n",
    "gnb.fit(X_train_scaled, y_train) \n",
    "\n",
    "# Make prediction using our test data and model\n",
    "y_pred = gnb.predict(X_test_scaled) \n",
    "\n",
    "# Comparing our prediction to response values\n",
    "print(\"Gaussian Naive Bayes model accuracy:\", round(metrics.accuracy_score(y_test, y_pred)*100,2))\n",
    "print(classification_report(y_test, y_pred))\n",
    "print(pd.crosstab(y_test, y_pred))"
   ]
  },
  {
   "cell_type": "markdown",
   "metadata": {},
   "source": [
    "So the Gaussian Naive Bayes Classifies did better in terms of recall since it classified more true cases as true. However, it also has worse precision. 510 false cases misclassified as true. "
   ]
  },
  {
   "cell_type": "markdown",
   "metadata": {},
   "source": [
    "### Random Forest Classifier"
   ]
  },
  {
   "cell_type": "code",
   "execution_count": 27,
   "metadata": {},
   "outputs": [
    {
     "name": "stdout",
     "output_type": "stream",
     "text": [
      "Random Forest Classifier model recall(in %): 40.04\n",
      "              precision    recall  f1-score   support\n",
      "\n",
      "       False       0.93      0.79      0.85      2606\n",
      "        True       0.37      0.69      0.48       477\n",
      "\n",
      "    accuracy                           0.77      3083\n",
      "   macro avg       0.65      0.74      0.67      3083\n",
      "weighted avg       0.85      0.77      0.80      3083\n",
      "\n",
      "col_0    False  True \n",
      "Revenue              \n",
      "False     2550     56\n",
      "True       286    191\n"
     ]
    }
   ],
   "source": [
    "# Fit Random Forest Classifier to the Training Data\n",
    "rfc = RandomForestClassifier(max_depth=5, random_state=4, n_estimators=40)\n",
    "rfc.fit(X_train_scaled, y_train)\n",
    "\n",
    "# make prediction using the test data and model\n",
    "y_pred_rfc = rfc.predict(X_test_scaled)\n",
    "y_prob_rfc = rfc.predict_proba(X_test_scaled)[:, 1]\n",
    "\n",
    "# Comparing the prediciton to response values\n",
    "print('Random Forest Classifier model recall(in %):', round(metrics.recall_score(y_test, y_pred_rfc)*100,2))\n",
    "print(classification_report(y_test,y_pred))\n",
    "print(pd.crosstab(y_test,y_pred_rfc))"
   ]
  },
  {
   "cell_type": "markdown",
   "metadata": {},
   "source": [
    "This model's results resemble the previous one. However, fewer false cases were misclassified compared to GNB. We can try to optimize this classifier to see if anything interesting occurs. "
   ]
  },
  {
   "cell_type": "code",
   "execution_count": 29,
   "metadata": {},
   "outputs": [
    {
     "name": "stdout",
     "output_type": "stream",
     "text": [
      "Fitting 5 folds for each of 16 candidates, totalling 80 fits\n"
     ]
    },
    {
     "data": {
      "text/plain": [
       "GridSearchCV(estimator=RandomForestClassifier(max_depth=5, n_estimators=40,\n",
       "                                              random_state=4),\n",
       "             param_grid={'max_depth': [10, 15], 'min_samples_leaf': [2, 3],\n",
       "                         'min_samples_split': [2, 4],\n",
       "                         'n_estimators': [80, 100]},\n",
       "             verbose=1)"
      ]
     },
     "execution_count": 29,
     "metadata": {},
     "output_type": "execute_result"
    }
   ],
   "source": [
    "# Lets Optimize the Random Forest Classifier using GridSearch\n",
    "param_grid = {\n",
    "    'n_estimators' : [80, 100],\n",
    "    'max_depth' : [10, 15],\n",
    "    'min_samples_leaf' : [2,3],\n",
    "    'min_samples_split': [2,4]\n",
    "}\n",
    "\n",
    "gridsearch = GridSearchCV(estimator=rfc,param_grid=param_grid,verbose = 1)\n",
    "gridsearch.fit(X_train_scaled,y_train)"
   ]
  },
  {
   "cell_type": "code",
   "execution_count": 30,
   "metadata": {},
   "outputs": [
    {
     "data": {
      "text/plain": [
       "{'max_depth': 15,\n",
       " 'min_samples_leaf': 3,\n",
       " 'min_samples_split': 2,\n",
       " 'n_estimators': 100}"
      ]
     },
     "execution_count": 30,
     "metadata": {},
     "output_type": "execute_result"
    }
   ],
   "source": [
    "gridsearch.best_params_"
   ]
  },
  {
   "cell_type": "code",
   "execution_count": 31,
   "metadata": {},
   "outputs": [
    {
     "name": "stdout",
     "output_type": "stream",
     "text": [
      "              precision    recall  f1-score   support\n",
      "\n",
      "       False       0.92      0.96      0.94      2606\n",
      "        True       0.73      0.51      0.60       477\n",
      "\n",
      "    accuracy                           0.89      3083\n",
      "   macro avg       0.82      0.74      0.77      3083\n",
      "weighted avg       0.89      0.89      0.89      3083\n",
      "\n",
      "Random Forest Classifier model recall(in %): 51.15\n",
      "col_0    False  True \n",
      "Revenue              \n",
      "False     2514     92\n",
      "True       233    244\n"
     ]
    }
   ],
   "source": [
    "rfc_opt = RandomForestClassifier(n_estimators = 100,max_depth = 15,min_samples_leaf = 3, min_samples_split = 2,random_state = 42)\n",
    "rfc_opt.fit(X_train_scaled,y_train)\n",
    "rfc_opt_pred = rfc_opt.predict(X_test_scaled)\n",
    "print(classification_report(y_test,rfc_opt_pred))\n",
    "\n",
    "print('Random Forest Classifier model recall(in %):', round(metrics.recall_score(y_test, rfc_opt_pred)*100,2))\n",
    "print(pd.crosstab(y_test,rfc_opt_pred))"
   ]
  },
  {
   "cell_type": "code",
   "execution_count": 32,
   "metadata": {},
   "outputs": [
    {
     "data": {
      "text/plain": [
       "array([0.06324326, 0.06525683, 0.04718309, 0.08569011, 0.71117446,\n",
       "       0.00818764, 0.01846279, 0.00080182])"
      ]
     },
     "execution_count": 32,
     "metadata": {},
     "output_type": "execute_result"
    }
   ],
   "source": [
    "rfc.feature_importances_"
   ]
  },
  {
   "cell_type": "code",
   "execution_count": 33,
   "metadata": {},
   "outputs": [
    {
     "data": {
      "text/plain": [
       "<BarContainer object of 8 artists>"
      ]
     },
     "execution_count": 33,
     "metadata": {},
     "output_type": "execute_result"
    },
    {
     "data": {
      "image/png": "[encoded data removed]",
      "text/plain": [
       "<Figure size 432x288 with 1 Axes>"
      ]
     },
     "metadata": {
      "needs_background": "light"
     },
     "output_type": "display_data"
    }
   ],
   "source": [
    "plt.bar([x for x in range(len(rfc.feature_importances_))], rfc.feature_importances_)"
   ]
  },
  {
   "cell_type": "code",
   "execution_count": 34,
   "metadata": {},
   "outputs": [
    {
     "name": "stdout",
     "output_type": "stream",
     "text": [
      "The area under the ROC curve is: 0.88\n"
     ]
    },
    {
     "data": {
      "image/png": "[encoded data removed]",
      "text/plain": [
       "<Figure size 432x288 with 1 Axes>"
      ]
     },
     "metadata": {
      "needs_background": "light"
     },
     "output_type": "display_data"
    }
   ],
   "source": [
    "# Creating an ROC \n",
    "\n",
    "y_prob_rfc = rfc_opt.predict_proba(X_test_scaled)[:, 1]\n",
    "\n",
    "roc_value = roc_auc_score(y_test, y_prob_rfc)\n",
    "print('The area under the ROC curve is:', round(roc_value,2))\n",
    "\n",
    "fpr, tpr, threshold = metrics.roc_curve(y_test, y_prob_rfc)\n",
    "roc_auc = metrics.auc(fpr, tpr)\n",
    "\n",
    "# Plotting ROC Curve\n",
    "plt.title('Receiver Operating Characteristic')\n",
    "plt.plot(fpr, tpr, 'b', label = 'AUC = %0.2f' % roc_auc)\n",
    "plt.legend(loc = 'lower right')\n",
    "plt.plot([0, 1], [0, 1],'r--')\n",
    "plt.xlim([0, 1])\n",
    "plt.ylim([0, 1])\n",
    "plt.ylabel('True Positive Rate')\n",
    "plt.xlabel('False Positive Rate')\n",
    "plt.show()"
   ]
  },
  {
   "cell_type": "markdown",
   "metadata": {},
   "source": [
    "At first glance at the ROC curve, this model is excellent given the high AUC score. The AUC (Area Under Curve) is the area enclosed by the ROC curve. A perfect classifier has AUC = 1 and a completely random classifier has AUC = 0.5.  Unfortunately, the accuracy is heavily affected by class imbalance,so ROC curve is not a good visual illustration for this data. .\n",
    "\n",
    "Whereas Precision ( True Positives / (True Positives + False Positives) ) is highly sensitive to False Positives and is not impacted by a large total real negative denominator. So, a precision-recall curve should be used when there is a moderate to large class imbalance. They can provide the viewer with an accurate prediction of future classification performance due to the fact that they evaluate the fraction of true positives among positive predictions."
   ]
  },
  {
   "cell_type": "code",
   "execution_count": 35,
   "metadata": {},
   "outputs": [],
   "source": [
    "from sklearn.metrics import auc\n",
    "from sklearn.metrics import plot_precision_recall_curve\n",
    "from sklearn.metrics import average_precision_score"
   ]
  },
  {
   "cell_type": "code",
   "execution_count": 36,
   "metadata": {},
   "outputs": [
    {
     "data": {
      "image/png": "[encoded data removed]",
      "text/plain": [
       "<Figure size 432x288 with 1 Axes>"
      ]
     },
     "metadata": {
      "needs_background": "light"
     },
     "output_type": "display_data"
    }
   ],
   "source": [
    "\n",
    "disp = plot_precision_recall_curve(rfc_opt, X_test_scaled, y_test)\n"
   ]
  },
  {
   "cell_type": "markdown",
   "metadata": {},
   "source": [
    "Precision (also known as positive predictive value) can be represented as: TP/(TP + FP) where TP is the true positive and FP is false positive. Precision can be thought of as the fraction of positive predictions that actually belong to the positive class.\n",
    "\n",
    "Recall (also known as sensitivity) can be represented as:TP/(TP+FN) where TP is the number of true positives and FN is the number of false negatives. Recall can be thought of as the fraction of positive predictions out of all positive instances in the data set.\n",
    "\n",
    "Much like ROC curves, a single value called the AUC-PR can summarize the information in a precision-recall curve and is the area under the (precision-recall) curve. Generally, the higher the AUC-PR score, the better a classifier performs for the given task.  A way to calculate AUC-PR is to calculate the AP, which summarizes a precision-recall curve as the weighted mean of precision achieved across all threshold. \n",
    "\n",
    "For this case, it looks like that the Random Forest Classifier performs better on the classification task with an AP score of 0.68. "
   ]
  },
  {
   "cell_type": "code",
   "execution_count": 58,
   "metadata": {},
   "outputs": [
    {
     "data": {
      "image/png": "[encoded data removed]",
      "text/plain": [
       "<Figure size 432x288 with 1 Axes>"
      ]
     },
     "metadata": {
      "needs_background": "light"
     },
     "output_type": "display_data"
    }
   ],
   "source": [
    "disp2 = plot_precision_recall_curve(log_reg_bal, X_test_scaled, y_test)"
   ]
  },
  {
   "cell_type": "code",
   "execution_count": 59,
   "metadata": {},
   "outputs": [
    {
     "data": {
      "image/png": "[encoded data removed]",
      "text/plain": [
       "<Figure size 432x288 with 1 Axes>"
      ]
     },
     "metadata": {
      "needs_background": "light"
     },
     "output_type": "display_data"
    }
   ],
   "source": [
    "disp3 = plot_precision_recall_curve(gnb, X_test_scaled, y_test)"
   ]
  },
  {
   "cell_type": "markdown",
   "metadata": {},
   "source": [
    "### SMOTE (Synthetic Minority Oversampling Technique)"
   ]
  },
  {
   "cell_type": "markdown",
   "metadata": {},
   "source": [
    "Since there are too few examples of the minority class for a model to effectively learn the decision boundary, one way to solve this problem is to oversample the minority examples using synthetic, duplicated samples. This technique is known as SMOTE. This algorithm helps to overcome the overfitting problem posed by random oversampling. These new examples will be\n",
    "close to existing examples in the feature space, but different in small but random way"
   ]
  },
  {
   "cell_type": "code",
   "execution_count": 37,
   "metadata": {},
   "outputs": [],
   "source": [
    "from collections import Counter\n",
    "from sklearn.datasets import make_classification\n",
    "from imblearn.over_sampling import SMOTE\n"
   ]
  },
  {
   "cell_type": "code",
   "execution_count": 38,
   "metadata": {},
   "outputs": [
    {
     "name": "stdout",
     "output_type": "stream",
     "text": [
      "Before OverSampling, counts of label '1': 1431\n",
      "Before OverSampling, counts of label '0': 7816 \n",
      "\n"
     ]
    }
   ],
   "source": [
    "print(\"Before OverSampling, counts of label '1': {}\".format(sum(y_train == 1)))\n",
    "print(\"Before OverSampling, counts of label '0': {} \\n\".format(sum(y_train == 0)))\n",
    "  "
   ]
  },
  {
   "cell_type": "code",
   "execution_count": 39,
   "metadata": {},
   "outputs": [
    {
     "name": "stdout",
     "output_type": "stream",
     "text": [
      "Counter({False: 10422, True: 1908})\n"
     ]
    }
   ],
   "source": [
    "counter = Counter(y)\n",
    "print(counter)"
   ]
  },
  {
   "cell_type": "code",
   "execution_count": 40,
   "metadata": {},
   "outputs": [],
   "source": [
    "smt = SMOTE()\n",
    "X_train_smt, y_train_smt = smt.fit_resample(X_train_scaled, y_train)"
   ]
  },
  {
   "cell_type": "code",
   "execution_count": 41,
   "metadata": {},
   "outputs": [
    {
     "name": "stdout",
     "output_type": "stream",
     "text": [
      "Counter({False: 7816, True: 7816})\n"
     ]
    }
   ],
   "source": [
    "#After resampling\n",
    "counter = Counter(y_train_smt)\n",
    "print(counter)"
   ]
  },
  {
   "cell_type": "code",
   "execution_count": 42,
   "metadata": {},
   "outputs": [
    {
     "name": "stdout",
     "output_type": "stream",
     "text": [
      "Basic Logistic Regression model recall: 68.97\n",
      "              precision    recall  f1-score   support\n",
      "\n",
      "       False       0.94      0.90      0.92      2606\n",
      "        True       0.55      0.69      0.61       477\n",
      "\n",
      "    accuracy                           0.86      3083\n",
      "   macro avg       0.74      0.79      0.76      3083\n",
      "weighted avg       0.88      0.86      0.87      3083\n",
      "\n",
      "col_0    False  True \n",
      "Revenue              \n",
      "False     2333    273\n",
      "True       148    329\n"
     ]
    }
   ],
   "source": [
    "log_reg= LogisticRegression()\n",
    "log_reg.fit(X_train_smt, y_train_smt)\n",
    "y_pred=log_reg.predict(X_test_scaled)\n",
    "\n",
    "print(\"Basic Logistic Regression model recall:\", round(metrics.recall_score(y_test, y_pred)*100,2))\n",
    "print(classification_report(y_test,y_pred))\n",
    "print(pd.crosstab(y_test, y_pred))"
   ]
  },
  {
   "cell_type": "code",
   "execution_count": 43,
   "metadata": {},
   "outputs": [
    {
     "name": "stdout",
     "output_type": "stream",
     "text": [
      "Feature: Administrative Score: 0.28832477117517935\n",
      "Feature: Administrative_Duration Score: 0.11616704654811544\n",
      "Feature: Informational Score: -0.025608958077423718\n",
      "Feature: Informational_Duration Score: -0.7892673433501308\n",
      "Feature: ProductRelated Score: 2.221314853586027\n",
      "Feature: ProductRelated_Duration Score: -0.2929526392310204\n",
      "Feature: BounceRates Score: 0.10690484741059728\n",
      "Feature: ExitRates Score: -0.024634884963764717\n"
     ]
    },
    {
     "data": {
      "image/png": "[encoded data removed]",
      "text/plain": [
       "<Figure size 432x288 with 1 Axes>"
      ]
     },
     "metadata": {
      "needs_background": "light"
     },
     "output_type": "display_data"
    },
    {
     "data": {
      "text/plain": [
       "['Administrative',\n",
       " 'Administrative_Duration',\n",
       " 'Informational_Duration',\n",
       " 'ProductRelated',\n",
       " 'ProductRelated_Duration',\n",
       " 'BounceRates']"
      ]
     },
     "execution_count": 43,
     "metadata": {},
     "output_type": "execute_result"
    }
   ],
   "source": [
    "feature_importances(log_reg)"
   ]
  },
  {
   "cell_type": "markdown",
   "metadata": {},
   "source": [
    "Compared to the initial modeling without the oversampling, this model did not result in a major change in result. "
   ]
  },
  {
   "cell_type": "code",
   "execution_count": 44,
   "metadata": {},
   "outputs": [
    {
     "name": "stdout",
     "output_type": "stream",
     "text": [
      "Gaussian Naive Bayes model accuracy: 49.76\n",
      "              precision    recall  f1-score   support\n",
      "\n",
      "       False       0.95      0.43      0.59      2606\n",
      "        True       0.22      0.87      0.35       477\n",
      "\n",
      "    accuracy                           0.50      3083\n",
      "   macro avg       0.58      0.65      0.47      3083\n",
      "weighted avg       0.83      0.50      0.55      3083\n",
      "\n",
      "col_0    False  True \n",
      "Revenue              \n",
      "False     1120   1486\n",
      "True        63    414\n"
     ]
    }
   ],
   "source": [
    "gnb = GaussianNB() \n",
    "gnb.fit(X_train_smt, y_train_smt) \n",
    "\n",
    "# Make prediction using our test data and model\n",
    "y_pred = gnb.predict(X_test_scaled) \n",
    "\n",
    "# Comparing our prediction to response values\n",
    "print(\"Gaussian Naive Bayes model accuracy:\", round(metrics.accuracy_score(y_test, y_pred)*100,2))\n",
    "print(classification_report(y_test, y_pred))\n",
    "print(pd.crosstab(y_test, y_pred))"
   ]
  },
  {
   "cell_type": "markdown",
   "metadata": {},
   "source": [
    "This is an interesting result because the model accurately classified the true labels as true (87%) but it performed not as well with the false labels.\n",
    "\n",
    "Overall, SMOTE does not seem to be improving the models. \n"
   ]
  },
  {
   "cell_type": "markdown",
   "metadata": {},
   "source": [
    "### Conclusion"
   ]
  },
  {
   "cell_type": "markdown",
   "metadata": {},
   "source": [
    "By comparing the various models, the best model seems to the basic logistic regression model that gives heavier weights on the minority class. Adding in the balanced parameter improved the recall score for positive labels from 35% to 65%, while still being accurate for the negative labels. The f1 score for majority class was 0.92 and 0.61 for the minority. This is much better than any of the other models. Even after oversampling the minority class using SMOTE, the results of the logistic regression model hardly changed at all. Even though the accurcy score does not matter a great deal in this case, it was 86%. \n",
    "\n",
    "\n",
    "In order to see if there was an improvement in all of the models, the least important features were removed and the models were rerun. The results did not change drastically unfortunately.The graph of the feature importances showed that the most important feature in the models was PageValues, which is the average value for a page that a user visited before landing on the goal page or completing an ecommerce transaction. Analyzing the Page Value gives insights in a business's marketing campaigns since they can use it to optimize conversion and this generate more revenue. \n",
    "\n",
    "If pages that are meant to sell or convert have a low page value but recieve high traffic volume, something is going terribly wrong and changes needs to be made on the content and usability of those pages. If you see that pages you’re not actively using in your strategy have a high Page Value but low traffic, the retailer might want to consider adding that page to your strategy to boost the overall conversion rate since it's driving people away from completing the transaction. \n",
    "\n"
   ]
  },
  {
   "cell_type": "markdown",
   "metadata": {},
   "source": []
  }
 ],
 "metadata": {
  "kernelspec": {
   "display_name": "Python 3",
   "language": "python",
   "name": "python3"
  },
  "language_info": {
   "codemirror_mode": {
    "name": "ipython",
    "version": 3
   },
   "file_extension": ".py",
   "mimetype": "text/x-python",
   "name": "python",
   "nbconvert_exporter": "python",
   "pygments_lexer": "ipython3",
   "version": "3.8.5"
  }
 },
 "nbformat": 4,
 "nbformat_minor": 4
}
