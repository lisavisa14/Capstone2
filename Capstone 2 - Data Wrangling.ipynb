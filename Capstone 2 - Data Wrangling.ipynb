{
 "cells": [
  {
   "cell_type": "markdown",
   "metadata": {},
   "source": [
    "# Capstone 2: Data Wrangling\n",
    "\n",
    "### Lisa Patel"
   ]
  },
  {
   "cell_type": "markdown",
   "metadata": {},
   "source": [
    "### Recap of data science problem"
   ]
  },
  {
   "cell_type": "markdown",
   "metadata": {},
   "source": [
    "The Online Shoppers Purchasing Intent Dataset consists of feature vectors belonging to 12,330 sessions.The dataset was formed so that each session would belong to a different user in a 1-year period to avoidany tendency to a specific campaign, special day, user profile, or period.\n",
    "\n",
    "The main objective revolves around the identification of key metrics which contributes the most towards predicting a shopper's behavior and website abandonment likelihood. Along the way, we also suggest prioritized critical recommendations and performance improvements to increase our target feature, Revenue."
   ]
  },
  {
   "cell_type": "markdown",
   "metadata": {},
   "source": [
    "### Imports"
   ]
  },
  {
   "cell_type": "code",
   "execution_count": 7,
   "metadata": {},
   "outputs": [],
   "source": [
    "import numpy as np\n",
    "import pandas as pd\n",
    "import matplotlib.pyplot as plt\n",
    "import seaborn as sns\n"
   ]
  },
  {
   "cell_type": "markdown",
   "metadata": {},
   "source": [
    "### Loading Data In"
   ]
  },
  {
   "cell_type": "code",
   "execution_count": 3,
   "metadata": {},
   "outputs": [],
   "source": [
    "data = pd.read_csv('online_shoppers_intention (1).csv')"
   ]
  },
  {
   "cell_type": "code",
   "execution_count": 4,
   "metadata": {},
   "outputs": [
    {
     "data": {
      "text/html": [
       "<div>\n",
       "<style scoped>\n",
       "    .dataframe tbody tr th:only-of-type {\n",
       "        vertical-align: middle;\n",
       "    }\n",
       "\n",
       "    .dataframe tbody tr th {\n",
       "        vertical-align: top;\n",
       "    }\n",
       "\n",
       "    .dataframe thead th {\n",
       "        text-align: right;\n",
       "    }\n",
       "</style>\n",
       "<table border=\"1\" class=\"dataframe\">\n",
       "  <thead>\n",
       "    <tr style=\"text-align: right;\">\n",
       "      <th></th>\n",
       "      <th>Administrative</th>\n",
       "      <th>Administrative_Duration</th>\n",
       "      <th>Informational</th>\n",
       "      <th>Informational_Duration</th>\n",
       "      <th>ProductRelated</th>\n",
       "      <th>ProductRelated_Duration</th>\n",
       "      <th>BounceRates</th>\n",
       "      <th>ExitRates</th>\n",
       "      <th>PageValues</th>\n",
       "      <th>SpecialDay</th>\n",
       "      <th>Month</th>\n",
       "      <th>OperatingSystems</th>\n",
       "      <th>Browser</th>\n",
       "      <th>Region</th>\n",
       "      <th>TrafficType</th>\n",
       "      <th>VisitorType</th>\n",
       "      <th>Weekend</th>\n",
       "      <th>Revenue</th>\n",
       "    </tr>\n",
       "  </thead>\n",
       "  <tbody>\n",
       "    <tr>\n",
       "      <th>0</th>\n",
       "      <td>0</td>\n",
       "      <td>0.0</td>\n",
       "      <td>0</td>\n",
       "      <td>0.0</td>\n",
       "      <td>1</td>\n",
       "      <td>0.000000</td>\n",
       "      <td>0.20</td>\n",
       "      <td>0.20</td>\n",
       "      <td>0.0</td>\n",
       "      <td>0.0</td>\n",
       "      <td>Feb</td>\n",
       "      <td>1</td>\n",
       "      <td>1</td>\n",
       "      <td>1</td>\n",
       "      <td>1</td>\n",
       "      <td>Returning_Visitor</td>\n",
       "      <td>False</td>\n",
       "      <td>False</td>\n",
       "    </tr>\n",
       "    <tr>\n",
       "      <th>1</th>\n",
       "      <td>0</td>\n",
       "      <td>0.0</td>\n",
       "      <td>0</td>\n",
       "      <td>0.0</td>\n",
       "      <td>2</td>\n",
       "      <td>64.000000</td>\n",
       "      <td>0.00</td>\n",
       "      <td>0.10</td>\n",
       "      <td>0.0</td>\n",
       "      <td>0.0</td>\n",
       "      <td>Feb</td>\n",
       "      <td>2</td>\n",
       "      <td>2</td>\n",
       "      <td>1</td>\n",
       "      <td>2</td>\n",
       "      <td>Returning_Visitor</td>\n",
       "      <td>False</td>\n",
       "      <td>False</td>\n",
       "    </tr>\n",
       "    <tr>\n",
       "      <th>2</th>\n",
       "      <td>0</td>\n",
       "      <td>0.0</td>\n",
       "      <td>0</td>\n",
       "      <td>0.0</td>\n",
       "      <td>1</td>\n",
       "      <td>0.000000</td>\n",
       "      <td>0.20</td>\n",
       "      <td>0.20</td>\n",
       "      <td>0.0</td>\n",
       "      <td>0.0</td>\n",
       "      <td>Feb</td>\n",
       "      <td>4</td>\n",
       "      <td>1</td>\n",
       "      <td>9</td>\n",
       "      <td>3</td>\n",
       "      <td>Returning_Visitor</td>\n",
       "      <td>False</td>\n",
       "      <td>False</td>\n",
       "    </tr>\n",
       "    <tr>\n",
       "      <th>3</th>\n",
       "      <td>0</td>\n",
       "      <td>0.0</td>\n",
       "      <td>0</td>\n",
       "      <td>0.0</td>\n",
       "      <td>2</td>\n",
       "      <td>2.666667</td>\n",
       "      <td>0.05</td>\n",
       "      <td>0.14</td>\n",
       "      <td>0.0</td>\n",
       "      <td>0.0</td>\n",
       "      <td>Feb</td>\n",
       "      <td>3</td>\n",
       "      <td>2</td>\n",
       "      <td>2</td>\n",
       "      <td>4</td>\n",
       "      <td>Returning_Visitor</td>\n",
       "      <td>False</td>\n",
       "      <td>False</td>\n",
       "    </tr>\n",
       "    <tr>\n",
       "      <th>4</th>\n",
       "      <td>0</td>\n",
       "      <td>0.0</td>\n",
       "      <td>0</td>\n",
       "      <td>0.0</td>\n",
       "      <td>10</td>\n",
       "      <td>627.500000</td>\n",
       "      <td>0.02</td>\n",
       "      <td>0.05</td>\n",
       "      <td>0.0</td>\n",
       "      <td>0.0</td>\n",
       "      <td>Feb</td>\n",
       "      <td>3</td>\n",
       "      <td>3</td>\n",
       "      <td>1</td>\n",
       "      <td>4</td>\n",
       "      <td>Returning_Visitor</td>\n",
       "      <td>True</td>\n",
       "      <td>False</td>\n",
       "    </tr>\n",
       "  </tbody>\n",
       "</table>\n",
       "</div>"
      ],
      "text/plain": [
       "   Administrative  Administrative_Duration  Informational  \\\n",
       "0               0                      0.0              0   \n",
       "1               0                      0.0              0   \n",
       "2               0                      0.0              0   \n",
       "3               0                      0.0              0   \n",
       "4               0                      0.0              0   \n",
       "\n",
       "   Informational_Duration  ProductRelated  ProductRelated_Duration  \\\n",
       "0                     0.0               1                 0.000000   \n",
       "1                     0.0               2                64.000000   \n",
       "2                     0.0               1                 0.000000   \n",
       "3                     0.0               2                 2.666667   \n",
       "4                     0.0              10               627.500000   \n",
       "\n",
       "   BounceRates  ExitRates  PageValues  SpecialDay Month  OperatingSystems  \\\n",
       "0         0.20       0.20         0.0         0.0   Feb                 1   \n",
       "1         0.00       0.10         0.0         0.0   Feb                 2   \n",
       "2         0.20       0.20         0.0         0.0   Feb                 4   \n",
       "3         0.05       0.14         0.0         0.0   Feb                 3   \n",
       "4         0.02       0.05         0.0         0.0   Feb                 3   \n",
       "\n",
       "   Browser  Region  TrafficType        VisitorType  Weekend  Revenue  \n",
       "0        1       1            1  Returning_Visitor    False    False  \n",
       "1        2       1            2  Returning_Visitor    False    False  \n",
       "2        1       9            3  Returning_Visitor    False    False  \n",
       "3        2       2            4  Returning_Visitor    False    False  \n",
       "4        3       1            4  Returning_Visitor     True    False  "
      ]
     },
     "execution_count": 4,
     "metadata": {},
     "output_type": "execute_result"
    }
   ],
   "source": [
    "data.head()"
   ]
  },
  {
   "cell_type": "code",
   "execution_count": 6,
   "metadata": {
    "scrolled": true
   },
   "outputs": [
    {
     "name": "stdout",
     "output_type": "stream",
     "text": [
      "<class 'pandas.core.frame.DataFrame'>\n",
      "RangeIndex: 12330 entries, 0 to 12329\n",
      "Data columns (total 18 columns):\n",
      " #   Column                   Non-Null Count  Dtype  \n",
      "---  ------                   --------------  -----  \n",
      " 0   Administrative           12330 non-null  int64  \n",
      " 1   Administrative_Duration  12330 non-null  float64\n",
      " 2   Informational            12330 non-null  int64  \n",
      " 3   Informational_Duration   12330 non-null  float64\n",
      " 4   ProductRelated           12330 non-null  int64  \n",
      " 5   ProductRelated_Duration  12330 non-null  float64\n",
      " 6   BounceRates              12330 non-null  float64\n",
      " 7   ExitRates                12330 non-null  float64\n",
      " 8   PageValues               12330 non-null  float64\n",
      " 9   SpecialDay               12330 non-null  float64\n",
      " 10  Month                    12330 non-null  object \n",
      " 11  OperatingSystems         12330 non-null  int64  \n",
      " 12  Browser                  12330 non-null  int64  \n",
      " 13  Region                   12330 non-null  int64  \n",
      " 14  TrafficType              12330 non-null  int64  \n",
      " 15  VisitorType              12330 non-null  object \n",
      " 16  Weekend                  12330 non-null  bool   \n",
      " 17  Revenue                  12330 non-null  bool   \n",
      "dtypes: bool(2), float64(7), int64(7), object(2)\n",
      "memory usage: 1.5+ MB\n"
     ]
    }
   ],
   "source": [
    "data.info()"
   ]
  },
  {
   "cell_type": "code",
   "execution_count": 9,
   "metadata": {},
   "outputs": [
    {
     "data": {
      "text/html": [
       "<div>\n",
       "<style scoped>\n",
       "    .dataframe tbody tr th:only-of-type {\n",
       "        vertical-align: middle;\n",
       "    }\n",
       "\n",
       "    .dataframe tbody tr th {\n",
       "        vertical-align: top;\n",
       "    }\n",
       "\n",
       "    .dataframe thead th {\n",
       "        text-align: right;\n",
       "    }\n",
       "</style>\n",
       "<table border=\"1\" class=\"dataframe\">\n",
       "  <thead>\n",
       "    <tr style=\"text-align: right;\">\n",
       "      <th></th>\n",
       "      <th>Weekend</th>\n",
       "      <th>Revenue</th>\n",
       "    </tr>\n",
       "  </thead>\n",
       "  <tbody>\n",
       "    <tr>\n",
       "      <th>count</th>\n",
       "      <td>12330</td>\n",
       "      <td>12330</td>\n",
       "    </tr>\n",
       "    <tr>\n",
       "      <th>unique</th>\n",
       "      <td>2</td>\n",
       "      <td>2</td>\n",
       "    </tr>\n",
       "    <tr>\n",
       "      <th>top</th>\n",
       "      <td>False</td>\n",
       "      <td>False</td>\n",
       "    </tr>\n",
       "    <tr>\n",
       "      <th>freq</th>\n",
       "      <td>9462</td>\n",
       "      <td>10422</td>\n",
       "    </tr>\n",
       "  </tbody>\n",
       "</table>\n",
       "</div>"
      ],
      "text/plain": [
       "       Weekend Revenue\n",
       "count    12330   12330\n",
       "unique       2       2\n",
       "top      False   False\n",
       "freq      9462   10422"
      ]
     },
     "execution_count": 9,
     "metadata": {},
     "output_type": "execute_result"
    }
   ],
   "source": [
    "data.describe(include = 'bool')"
   ]
  },
  {
   "cell_type": "markdown",
   "metadata": {},
   "source": [
    "### Descriptions of Columns\n",
    "\n",
    "The dataset has 10 numerical features and 8 categorical features. Taking a look at the dataset description:\n",
    "\n",
    "Column Descriptions:\n",
    "\n",
    "Administrative: Number of pages of this type (administrative) that the user visited.\n",
    "\n",
    "Administrative_Duration: Amount of time spent in this category of pages.\n",
    "\n",
    "Informational: Number of pages of this type (informational) that the user visited.\n",
    "\n",
    "Informational_Duration: Amount of time spent in this category of pages.\n",
    "\n",
    "ProductRelated: Number of pages of this type (product related) that the user visited.\n",
    "\n",
    "ProductRelated_Duration: Time spent in this category of pages.\n",
    "\n",
    "BounceRates: The percentage of people who leave your website after visiting only a single page. Here are some scenarios that count as a bounce on your website:  <br>\n",
    "    Someone clicks the back button after viewing a single page.  <br>\n",
    "    Someone exits their browser after viewing a single page.  <br>\n",
    "    A user clicks to another website that takes them elsewhere after viewing only a single page on your site\n",
    "    \n",
    "ExitRates: The percentage of pageviews on the website that end at that specific page.\n",
    "\n",
    "PageValues: The average value of the page averaged over the value of the target page and/or the completion of an eCommerce transaction.\n",
    "\n",
    "SpecialDay: This value represents the closeness of the browsing date to special days or holidays (eg Mother's Day or Valentine's day) in which the transaction is more likely to be finalized.\n",
    "\n",
    "Month: Contains the month the pageview occurred, in string form.\n",
    "\n",
    "OperatingSystems: An integer value representing the operating system that the user was on when viewing the page.\n",
    "\n",
    "Browser: An integer value representing the browser that the user was using to view the page.\n",
    "\n",
    "Region: An integer value representing which region the user is located in.\n",
    "\n",
    "TrafficType: An integer value representing what type of traffic the user is categorized into.\n",
    "Read more about traffic types here.\n",
    "\n",
    "VisitorType: A string representing whether a visitor is New Visitor, Returning Visitor, or Other.\n",
    "\n",
    "Weekend: A boolean representing whether the session is on a weekend.\n",
    "\n",
    "Revenue: A boolean representing whether or not the user completed the purchase."
   ]
  },
  {
   "cell_type": "code",
   "execution_count": 10,
   "metadata": {},
   "outputs": [
    {
     "data": {
      "text/plain": [
       "Administrative             0\n",
       "Administrative_Duration    0\n",
       "Informational              0\n",
       "Informational_Duration     0\n",
       "ProductRelated             0\n",
       "ProductRelated_Duration    0\n",
       "BounceRates                0\n",
       "ExitRates                  0\n",
       "PageValues                 0\n",
       "SpecialDay                 0\n",
       "Month                      0\n",
       "OperatingSystems           0\n",
       "Browser                    0\n",
       "Region                     0\n",
       "TrafficType                0\n",
       "VisitorType                0\n",
       "Weekend                    0\n",
       "Revenue                    0\n",
       "dtype: int64"
      ]
     },
     "execution_count": 10,
     "metadata": {},
     "output_type": "execute_result"
    }
   ],
   "source": [
    "#Checking for null values\n",
    "data.isnull().sum()"
   ]
  },
  {
   "cell_type": "markdown",
   "metadata": {},
   "source": [
    "First glance at the columns shows no values are missing from any of the columns. To be perfectly, we can also look at each column for strange values. \n"
   ]
  },
  {
   "cell_type": "code",
   "execution_count": 11,
   "metadata": {},
   "outputs": [],
   "source": [
    "#Function for describe every column:\n",
    "\n",
    "def describe_column(df, col):\n",
    "    print(f'Columns: {col}  -  Type of Columns: {df[col].dtype}')\n",
    "    print(f'Number of null values: {df[col].isnull().sum()}  -  Number of distinct values: {df[col].nunique()}')\n",
    "    print('Most frequent values:')\n",
    "    for i, v in df[col].value_counts().iloc[:20].items() :\n",
    "        print(i, '\\t', v)"
   ]
  },
  {
   "cell_type": "code",
   "execution_count": 12,
   "metadata": {},
   "outputs": [
    {
     "name": "stdout",
     "output_type": "stream",
     "text": [
      "Columns: Administrative  -  Type of Columns: int64\n",
      "Number of null values: 0  -  Number of distinct values: 27\n",
      "Most frequent values:\n",
      "0 \t 5768\n",
      "1 \t 1354\n",
      "2 \t 1114\n",
      "3 \t 915\n",
      "4 \t 765\n",
      "5 \t 575\n",
      "6 \t 432\n",
      "7 \t 338\n",
      "8 \t 287\n",
      "9 \t 225\n",
      "10 \t 153\n",
      "11 \t 105\n",
      "12 \t 86\n",
      "13 \t 56\n",
      "14 \t 44\n",
      "15 \t 38\n",
      "16 \t 24\n",
      "17 \t 16\n",
      "18 \t 12\n",
      "19 \t 6\n"
     ]
    }
   ],
   "source": [
    "describe_column(data, 'Administrative')"
   ]
  },
  {
   "cell_type": "code",
   "execution_count": 54,
   "metadata": {},
   "outputs": [
    {
     "name": "stdout",
     "output_type": "stream",
     "text": [
      "Columns: Revenue  -  Type of Columns: bool\n",
      "Number of null values: 0  -  Number of distinct values: 2\n",
      "Most frequent values:\n",
      "False \t 10422\n",
      "True \t 1908\n"
     ]
    }
   ],
   "source": [
    "describe_column(data, 'Revenue')"
   ]
  },
  {
   "cell_type": "code",
   "execution_count": 58,
   "metadata": {},
   "outputs": [
    {
     "name": "stdout",
     "output_type": "stream",
     "text": [
      "Columns: BounceRates  -  Type of Columns: float64\n",
      "Number of null values: 0  -  Number of distinct values: 1872\n",
      "Most frequent values:\n",
      "0.0 \t 5518\n",
      "0.2 \t 700\n",
      "0.066666667 \t 134\n",
      "0.028571429 \t 115\n",
      "0.05 \t 113\n",
      "0.033333333 \t 101\n",
      "0.025 \t 100\n",
      "0.016666667 \t 99\n",
      "0.1 \t 98\n",
      "0.04 \t 96\n",
      "0.02 \t 91\n",
      "0.022222222000000003 \t 88\n",
      "0.0125 \t 85\n",
      "0.018181818 \t 81\n",
      "0.015384615 \t 76\n",
      "0.014285714 \t 73\n",
      "0.008333333 \t 72\n",
      "0.011111111000000002 \t 62\n",
      "0.01 \t 61\n",
      "0.013333333000000001 \t 54\n"
     ]
    }
   ],
   "source": [
    "describe_column(data, 'BounceRates')"
   ]
  },
  {
   "cell_type": "code",
   "execution_count": 55,
   "metadata": {},
   "outputs": [
    {
     "name": "stdout",
     "output_type": "stream",
     "text": [
      "Columns: Administrative_Duration  -  Type of Columns: float64\n",
      "Number of null values: 0  -  Number of distinct values: 3335\n",
      "Most frequent values:\n",
      "0.0 \t 5903\n",
      "4.0 \t 56\n",
      "5.0 \t 53\n",
      "7.0 \t 45\n",
      "11.0 \t 42\n",
      "6.0 \t 41\n",
      "14.0 \t 37\n",
      "9.0 \t 35\n",
      "15.0 \t 33\n",
      "10.0 \t 32\n",
      "19.0 \t 29\n",
      "13.0 \t 29\n",
      "12.0 \t 28\n",
      "21.0 \t 28\n",
      "8.0 \t 26\n",
      "3.0 \t 26\n",
      "18.0 \t 26\n",
      "20.0 \t 26\n",
      "17.0 \t 25\n",
      "37.0 \t 24\n"
     ]
    }
   ],
   "source": [
    "describe_column(data, 'Administrative_Duration')\n"
   ]
  },
  {
   "cell_type": "code",
   "execution_count": 18,
   "metadata": {},
   "outputs": [
    {
     "name": "stdout",
     "output_type": "stream",
     "text": [
      "Columns: Informational  -  Type of Columns: int64\n",
      "Number of null values: 0  -  Number of distinct values: 17\n",
      "Most frequent values:\n",
      "0 \t 9699\n",
      "1 \t 1041\n",
      "2 \t 728\n",
      "3 \t 380\n",
      "4 \t 222\n",
      "5 \t 99\n",
      "6 \t 78\n",
      "7 \t 36\n",
      "9 \t 15\n",
      "8 \t 14\n",
      "10 \t 7\n",
      "12 \t 5\n",
      "14 \t 2\n",
      "11 \t 1\n",
      "13 \t 1\n",
      "24 \t 1\n",
      "16 \t 1\n"
     ]
    }
   ],
   "source": [
    "describe_column(data, 'Informational') \n"
   ]
  },
  {
   "cell_type": "code",
   "execution_count": 19,
   "metadata": {},
   "outputs": [
    {
     "name": "stdout",
     "output_type": "stream",
     "text": [
      "Columns: Informational_Duration  -  Type of Columns: float64\n",
      "Number of null values: 0  -  Number of distinct values: 1258\n",
      "Most frequent values:\n",
      "0.0 \t 9925\n",
      "9.0 \t 33\n",
      "6.0 \t 26\n",
      "10.0 \t 26\n",
      "7.0 \t 26\n",
      "13.0 \t 23\n",
      "12.0 \t 23\n",
      "8.0 \t 22\n",
      "16.0 \t 22\n",
      "11.0 \t 21\n",
      "17.0 \t 18\n",
      "15.0 \t 18\n",
      "5.0 \t 18\n",
      "23.0 \t 17\n",
      "4.0 \t 17\n",
      "14.0 \t 17\n",
      "18.0 \t 17\n",
      "3.0 \t 16\n",
      "20.0 \t 14\n",
      "21.0 \t 14\n"
     ]
    }
   ],
   "source": [
    "describe_column(data, 'Informational_Duration')"
   ]
  },
  {
   "cell_type": "code",
   "execution_count": 20,
   "metadata": {},
   "outputs": [
    {
     "name": "stdout",
     "output_type": "stream",
     "text": [
      "Administrative               27\n",
      "Administrative_Duration    3335\n",
      "Informational                17\n",
      "Informational_Duration     1258\n",
      "ProductRelated              311\n",
      "ProductRelated_Duration    9551\n",
      "BounceRates                1872\n",
      "ExitRates                  4777\n",
      "PageValues                 2704\n",
      "SpecialDay                    6\n",
      "Month                        10\n",
      "OperatingSystems              8\n",
      "Browser                      13\n",
      "Region                        9\n",
      "TrafficType                  20\n",
      "VisitorType                   3\n",
      "Weekend                       2\n",
      "Revenue                       2\n",
      "dtype: int64\n"
     ]
    }
   ],
   "source": [
    "#Lets instead check for the number of unique values for each feature:\n",
    "\n",
    "uniques = data.nunique(axis=0)\n",
    "print(uniques)"
   ]
  },
  {
   "cell_type": "code",
   "execution_count": 41,
   "metadata": {
    "scrolled": true
   },
   "outputs": [
    {
     "data": {
      "image/png": "[encoded data removed]",
      "text/plain": [
       "<Figure size 432x288 with 1 Axes>"
      ]
     },
     "metadata": {
      "needs_background": "light"
     },
     "output_type": "display_data"
    }
   ],
   "source": [
    "# Visualize the data\n",
    "\n",
    "sns.countplot(data['Revenue'])\n",
    "plt.ylim(0,12000)\n",
    "plt.title('Was the transaction completed?', fontsize= 15)\n",
    "plt.xlabel('Transaction Completed', fontsize=12)\n",
    "plt.ylabel('Count', fontsize=12)\n",
    "plt.text(x=-.12, y=11000 ,s='10,422', fontsize=12)\n",
    "plt.text(x=.92, y=2500, s='1908', fontsize=12)\n",
    "plt.show()"
   ]
  },
  {
   "cell_type": "markdown",
   "metadata": {},
   "source": [
    "We can see that the number of entries where the customer ended up not purchasing is much higher that the number of entries where the customer ended up completing a transaction. This makes sense, as a majority of normal online shopping ends without a purchase."
   ]
  },
  {
   "cell_type": "code",
   "execution_count": 61,
   "metadata": {},
   "outputs": [
    {
     "data": {
      "image/png": "[encoded data removed]",
      "text/plain": [
       "<Figure size 432x288 with 1 Axes>"
      ]
     },
     "metadata": {
      "needs_background": "light"
     },
     "output_type": "display_data"
    }
   ],
   "source": [
    "sns.countplot(data['Region'])\n",
    "plt.ylim(0,12000)\n",
    "plt.title('Where was the transaction completed?', fontsize= 15)\n",
    "plt.xlabel('Transaction Completed', fontsize=12)\n",
    "plt.ylabel('Count', fontsize=12)\n",
    "plt.show()\n"
   ]
  },
  {
   "cell_type": "code",
   "execution_count": 62,
   "metadata": {},
   "outputs": [
    {
     "data": {
      "image/png": "[encoded data removed]",
      "text/plain": [
       "<Figure size 432x288 with 1 Axes>"
      ]
     },
     "metadata": {
      "needs_background": "light"
     },
     "output_type": "display_data"
    }
   ],
   "source": [
    "#Revenue for a year\n",
    "sns.countplot(data['Month'],hue=data.Revenue)\n",
    "plt.title('Revenue for the Year', size = 15)\n",
    "L=plt.legend(loc = 'best')\n",
    "L.get_texts()[0].set_text('No Revenue')\n",
    "L.get_texts()[1].set_text('Revenue')\n",
    "plt.show()"
   ]
  },
  {
   "cell_type": "code",
   "execution_count": 48,
   "metadata": {},
   "outputs": [],
   "source": [
    "df = pd.DataFrame(data)"
   ]
  },
  {
   "cell_type": "code",
   "execution_count": 49,
   "metadata": {},
   "outputs": [
    {
     "data": {
      "text/plain": [
       "array(['Feb', 'Mar', 'May', 'Oct', 'June', 'Jul', 'Aug', 'Nov', 'Sep',\n",
       "       'Dec'], dtype=object)"
      ]
     },
     "execution_count": 49,
     "metadata": {},
     "output_type": "execute_result"
    }
   ],
   "source": [
    "df.Month.unique()"
   ]
  },
  {
   "cell_type": "markdown",
   "metadata": {},
   "source": [
    "It seems the dataset is missing data from the months of January, April, and October. Something to keep in mind for the analysis. \n",
    "\n",
    "Converted to a pandas dataframe for future complex manipulations.\n",
    "\n",
    "Next, we will move on to creating a correlation map, which might give additional information about what columns can be dropped from the dataframe. "
   ]
  },
  {
   "cell_type": "code",
   "execution_count": 52,
   "metadata": {},
   "outputs": [
    {
     "data": {
      "text/plain": [
       "<matplotlib.axes._subplots.AxesSubplot at 0x138283a8f08>"
      ]
     },
     "execution_count": 52,
     "metadata": {},
     "output_type": "execute_result"
    },
    {
     "data": {
      "image/png": "[encoded data removed]",
      "text/plain": [
       "<Figure size 1440x720 with 2 Axes>"
      ]
     },
     "metadata": {
      "needs_background": "light"
     },
     "output_type": "display_data"
    }
   ],
   "source": [
    "cor = df.corr()\n",
    "plt.figure(figsize=(20,10))\n",
    "sns.heatmap(cor, vmin=-0.5, cmap=\"YlGnBu\")"
   ]
  },
  {
   "cell_type": "markdown",
   "metadata": {},
   "source": [
    "Initial look at the correlation map indicates the PageValues column is strongly correlated with Revenue. Not strongly correlated with the target column are ExitRates and BounceRates which make sense since it means people are leaving the site before making a purchase. \n",
    "\n",
    "Bounce rate is the overall percentage of a single engagement session whereas exit rate is the percentage of exits from a page. The former is calculated by dividing the aggregation of one-page visits to the overall entrance visits whereas latter is calculated by dividing the aggregation of total exits from a page to the total visits to a page. One major difference between these is that exit rate is related to the overall percentage of visitors that were within the last session whereas bounce rates account for the percentage of visitors that were part of that one and only session. In other words, prior activity is not considered in the case of bounce rates. \n",
    "\n",
    "A high bounce rate could indicate issues with user satisfaction from technical reasons such as unfriendly UI of the website, extremely slow throughput or other matters. According to BigCommerce, A bounce rate between 30% to 55% is acceptable. Our analysis shows the bounce rates largely scattered lower than 10%. According to UpSide Business, a bounce rate lower than 5% is a cause of concern indicating a possibility of the Google Analytics code was inserted twice. Hence more investigation is needed on these data. Given that there is indeed no error, we could look for ways to optimize bounce rates and exit rates to ensure saving sales and securing customer loyalty.\n",
    "\n"
   ]
  },
  {
   "cell_type": "markdown",
   "metadata": {},
   "source": [
    "This concludes the data wrangling step of the data science workflow. We explored the dataset and did not find many missing or strange values that needed to be dropped or altered. By looking at the revenue rate for the entire year, we discovered a couple of months that did not have data associated. \n",
    "\n",
    "The correlation map also provided a preview for the important features we should monitor in our later analysis. "
   ]
  },
  {
   "cell_type": "markdown",
   "metadata": {},
   "source": [
    "#### Sources: \n",
    "\n",
    "1) https://archive.ics.uci.edu/ml/datasets/Online+Shoppers+Purchasing+Intention+Dataset  <br>\n",
    "2) https://www.bigcommerce.com/blog/bounce-rates/#this-bounce-rate-equation-doesnt-tell-the-whole-story  <br>\n",
    "3) https://upsidebusiness.com/blog/my-website-bounce-rate-is-5-is-that-too-low-is-it-too-good-to-be-true/"
   ]
  },
  {
   "cell_type": "code",
   "execution_count": null,
   "metadata": {},
   "outputs": [],
   "source": []
  }
 ],
 "metadata": {
  "kernelspec": {
   "display_name": "Python 3",
   "language": "python",
   "name": "python3"
  },
  "language_info": {
   "codemirror_mode": {
    "name": "ipython",
    "version": 3
   },
   "file_extension": ".py",
   "mimetype": "text/x-python",
   "name": "python",
   "nbconvert_exporter": "python",
   "pygments_lexer": "ipython3",
   "version": "3.7.6"
  }
 },
 "nbformat": 4,
 "nbformat_minor": 4
}
